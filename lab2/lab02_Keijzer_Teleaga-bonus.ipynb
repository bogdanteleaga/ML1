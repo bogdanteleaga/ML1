{
 "cells": [
  {
   "cell_type": "markdown",
   "metadata": {},
   "source": [
    "# Lab 2: Classification\n",
    "\n",
    "### Machine Learning 1, September 2016\n",
    "\n",
    "* The lab exercises should be made in groups of two people.\n",
    "* The deadline is October 9th (Sunday) 23:59.\n",
    "* Assignment should be sent to your teaching assistant. The subject line of your email should be \"lab\\#\\_lastname1\\_lastname2\\_lastname3\".\n",
    "* Put your and your teammates' names in the body of the email.\n",
    "* Attach the .IPYNB (IPython Notebook) file containing your code and answers. Naming of the file follows the same rule as the subject line. For example, if the subject line is \"lab01\\_Kingma\\_Hu\", the attached file should be \"lab01\\_Kingma\\_Hu.ipynb\". Only use underscores (\"\\_\") to connect names, otherwise the files cannot be parsed.\n",
    "\n",
    "Notes on implementation:\n",
    "\n",
    "* For this notebook you need to answer a few theory questions, add them in the Markdown cell's below the question. Note: you can use Latex-style code in here.\n",
    "* Focus on Part 1 the first week, and Part 2 the second week!\n",
    "* You should write your code and answers below the questions in this IPython Notebook.\n",
    "* Among the first lines of your notebook should be \"%pylab inline\". This imports all required modules, and your plots will appear inline.\n",
    "* If you have questions outside of the labs, post them on blackboard or email me.\n",
    "* NOTE: Make sure we can run your notebook / scripts!\n",
    "\n",
    "$\\newcommand{\\bx}{\\mathbf{x}}$\n",
    "$\\newcommand{\\bw}{\\mathbf{w}}$\n",
    "$\\newcommand{\\bt}{\\mathbf{t}}$\n",
    "$\\newcommand{\\by}{\\mathbf{y}}$\n",
    "$\\newcommand{\\bm}{\\mathbf{m}}$\n",
    "$\\newcommand{\\bb}{\\mathbf{b}}$\n",
    "$\\newcommand{\\bS}{\\mathbf{S}}$\n",
    "$\\newcommand{\\ba}{\\mathbf{a}}$\n",
    "$\\newcommand{\\bz}{\\mathbf{z}}$\n",
    "$\\newcommand{\\bv}{\\mathbf{v}}$\n",
    "$\\newcommand{\\bq}{\\mathbf{q}}$\n",
    "$\\newcommand{\\bp}{\\mathbf{p}}$\n",
    "$\\newcommand{\\bh}{\\mathbf{h}}$\n",
    "$\\newcommand{\\bI}{\\mathbf{I}}$\n",
    "$\\newcommand{\\bX}{\\mathbf{X}}$\n",
    "$\\newcommand{\\bT}{\\mathbf{T}}$\n",
    "$\\newcommand{\\bPhi}{\\mathbf{\\Phi}}$\n",
    "$\\newcommand{\\bW}{\\mathbf{W}}$\n",
    "$\\newcommand{\\bV}{\\mathbf{V}}$"
   ]
  },
  {
   "cell_type": "code",
   "execution_count": 1,
   "metadata": {
    "collapsed": false
   },
   "outputs": [
    {
     "name": "stdout",
     "output_type": "stream",
     "text": [
      "Populating the interactive namespace from numpy and matplotlib\n"
     ]
    }
   ],
   "source": [
    "%pylab inline\n",
    "import gzip, pickle, random, math"
   ]
  },
  {
   "cell_type": "code",
   "execution_count": 2,
   "metadata": {
    "collapsed": true
   },
   "outputs": [],
   "source": [
    "numpy.random.seed(40)"
   ]
  },
  {
   "cell_type": "markdown",
   "metadata": {},
   "source": [
    "# Part 1. Multiclass logistic regression\n",
    "\n",
    "Scenario: you have a friend with one big problem: she's completely blind. You decided to help her: she has a special smartphone for blind people, and you are going to develop a mobile phone app that can do _machine vision_ using the mobile camera: converting a picture (from the camera) to the meaning of the image. You decide to start with an app that can read handwritten digits, i.e. convert an image of handwritten digits to text (e.g. it would enable her to read precious handwritten phone numbers).\n",
    "\n",
    "A key building block for such an app would be a function `predict_digit(x)` that returns the digit class of an image patch $\\bx$. Since hand-coding this function is highly non-trivial, you decide to solve this problem using machine learning, such that the internal parameters of this function are automatically learned using machine learning techniques.\n",
    "\n",
    "The dataset you're going to use for this is the MNIST handwritten digits dataset (`http://yann.lecun.com/exdb/mnist/`). You can load the data from `mnist.pkl.gz` we provided, using: "
   ]
  },
  {
   "cell_type": "code",
   "execution_count": 3,
   "metadata": {
    "collapsed": false
   },
   "outputs": [],
   "source": [
    "def load_mnist():\n",
    "    return pickle.load(gzip.open('mnist.pkl.gz', 'rb'), encoding='latin1')\n",
    "\n",
    "(x_train, t_train), (x_valid, t_valid), (x_test, t_test) = load_mnist()\n",
    "# One hot encoding\n",
    "t_train = np.eye(10, dtype=int32)[t_train]\n",
    "t_valid = np.eye(10, dtype=int32)[t_valid]\n",
    "t_test = np.eye(10, dtype=int32)[t_test]\n",
    "x_train_valid = np.concatenate((x_train, x_valid), axis=0)\n",
    "t_train_valid = np.concatenate((t_train, t_valid), axis=0)"
   ]
  },
  {
   "cell_type": "markdown",
   "metadata": {},
   "source": [
    "The tuples represent train, validation and test sets. The first element (`x_train`, `x_valid`, `x_test`) of each tuple is a $N \\times M$ matrix, where $N$ is the number of datapoints and $M = 28^2 = 784$ is the dimensionality of the data. The second element (`t_train`, `t_valid`, `t_test`) of each tuple is the corresponding $N$-dimensional vector of integers, containing the true class labels.\n",
    "\n",
    "Here's a visualisation of the first 8 digits of the trainingset:"
   ]
  },
  {
   "cell_type": "code",
   "execution_count": 4,
   "metadata": {
    "collapsed": false
   },
   "outputs": [
    {
     "data": {
      "image/png": "[encoded data removed]",
      "text/plain": [
       "<matplotlib.figure.Figure at 0x104315630>"
      ]
     },
     "metadata": {},
     "output_type": "display_data"
    }
   ],
   "source": [
    "def plot_digits(data, numcols, shape=(28,28), cmap='Greys'):\n",
    "    numdigits = data.shape[0]\n",
    "    numrows = int(numdigits/numcols)\n",
    "    for i in range(numdigits):\n",
    "        plt.subplot(numrows, numcols, i+1)\n",
    "        plt.axis('off')\n",
    "        plt.imshow(data[i].reshape(shape), interpolation='nearest', cmap=cmap)\n",
    "    plt.show()\n",
    "    \n",
    "plot_digits(x_train[0:8], numcols=4)"
   ]
  },
  {
   "cell_type": "markdown",
   "metadata": {},
   "source": [
    "In _multiclass_ logistic regression, the conditional probability of class label $j$ given the image $\\bx$ for some datapoint is given by:\n",
    "\n",
    "$ \\log p(t = j \\;|\\; \\bx, \\bb, \\bW) = \\log q_j - \\log Z$\n",
    "\n",
    "where $\\log q_j = \\bw_j^T \\bx + b_j$ (the log of the unnormalized probability of the class $j$), and $Z = \\sum_k q_k$ is the normalizing factor. $\\bw_j$ is the $j$-th column of $\\bW$ (a matrix of size $784 \\times 10$) corresponding to the class label, $b_j$ is the $j$-th element of $\\bb$.\n",
    "\n",
    "Given an input image, the multiclass logistic regression model first computes the intermediate vector $\\log \\bq$ (of size $10 \\times 1$), using $\\log q_j = \\bw_j^T \\bx + b_j$, containing the unnormalized log-probabilities per class. \n",
    "\n",
    "The unnormalized probabilities are then normalized by $Z$ such that $\\sum_j p_j = \\sum_j \\exp(\\log p_j) = 1$. This is done by $\\log p_j = \\log q_j - \\log Z$ where $Z = \\sum_j \\exp(\\log q_j)$. This is known as the _softmax_ transformation, and is also used as a last layer of many classifcation neural network models, to ensure that the output of the network is a normalized distribution, regardless of the values of second-to-last layer ($\\log \\bq$)\n",
    "\n",
    "Warning: when computing $\\log Z$, you are likely to encounter numerical problems. Save yourself countless hours of debugging and learn the [log-sum-exp trick](https://hips.seas.harvard.edu/blog/2013/01/09/computing-log-sum-exp/ \"Title\").\n",
    "\n",
    "The network's output $\\log \\bp$ of size $10 \\times 1$ then contains the conditional log-probabilities $\\log p(t = j \\;|\\; \\bx, \\bb, \\bW)$ for each digit class $j$. In summary, the computations are done in this order:\n",
    "\n",
    "$\\bx \\rightarrow \\log \\bq \\rightarrow Z \\rightarrow \\log \\bp$\n",
    "\n",
    "Given some dataset with $N$ independent, identically distributed datapoints, the log-likelihood is given by:\n",
    "\n",
    "$ \\mathcal{L}(\\bb, \\bW) = \\sum_{n=1}^N \\mathcal{L}^{(n)}$\n",
    "\n",
    "where we use $\\mathcal{L}^{(n)}$ to denote the partial log-likelihood evaluated over a single datapoint. It is important to see that the log-probability of the class label $t^{(n)}$ given the image, is given by the $t^{(n)}$-th element of the network's output $\\log \\bp$, denoted by $\\log p_{t^{(n)}}$:\n",
    "\n",
    "$\\mathcal{L}^{(n)} = \\log p(t = t^{(n)} \\;|\\; \\bx = \\bx^{(n)}, \\bb, \\bW) = \\log p_{t^{(n)}} = \\log q_{t^{(n)}} - \\log Z^{(n)}$\n",
    "\n",
    "where $\\bx^{(n)}$ and $t^{(n)}$ are the input (image) and class label (integer) of the $n$-th datapoint, and $Z^{(n)}$ is the normalizing constant for the distribution over $t^{(n)}$.\n"
   ]
  },
  {
   "cell_type": "markdown",
   "metadata": {},
   "source": [
    "## 1.1 Gradient-based stochastic optimization\n",
    "\n",
    "### 1.1.1 Derive gradient equations (20 points)\n",
    "\n",
    "Derive the equations for computing the (first) partial derivatives of the log-likelihood w.r.t. all the parameters, evaluated at a _single_ datapoint $n$.\n",
    "\n",
    "You should start deriving the equations for $\\frac{\\partial \\mathcal{L}^{(n)}}{\\partial \\log q_j}$ for each $j$. For clarity, we'll use the shorthand $\\delta^q_j = \\frac{\\partial \\mathcal{L}^{(n)}}{\\partial \\log q_j}$.\n",
    "\n",
    "For $j = t^{(n)}$:\n",
    "$\n",
    "\\delta^q_j\n",
    "= \\frac{\\partial \\mathcal{L}^{(n)}}{\\partial \\log p_j}\n",
    "\\frac{\\partial \\log p_j}{\\partial \\log q_j}\n",
    "+ \\frac{\\partial \\mathcal{L}^{(n)}}{\\partial \\log Z}\n",
    "\\frac{\\partial \\log Z}{\\partial Z} \n",
    "\\frac{\\partial Z}{\\partial \\log q_j} \n",
    "= 1 \\cdot 1 - \\frac{\\partial \\log Z}{\\partial Z} \n",
    "\\frac{\\partial Z}{\\partial \\log q_j}\n",
    "= 1 - \\frac{\\partial \\log Z}{\\partial Z} \n",
    "\\frac{\\partial Z}{\\partial \\log q_j}\n",
    "$\n",
    "\n",
    "For $j \\neq t^{(n)}$:\n",
    "$\n",
    "\\delta^q_j\n",
    "= \\frac{\\partial \\mathcal{L}^{(n)}}{\\partial \\log Z}\n",
    "\\frac{\\partial \\log Z}{\\partial Z} \n",
    "\\frac{\\partial Z}{\\partial \\log q_j} \n",
    "= - \\frac{\\partial \\log Z}{\\partial Z} \n",
    "\\frac{\\partial Z}{\\partial \\log q_j}\n",
    "$\n",
    "\n",
    "Complete the above derivations for $\\delta^q_j$ by furtherly developing $\\frac{\\partial \\log Z}{\\partial Z}$ and $\\frac{\\partial Z}{\\partial \\log q_j}$. Both are quite simple. For these it doesn't matter whether $j = t^{(n)}$ or not.\n",
    "\n",
    "Given your equations for computing the gradients $\\delta^q_j$ it should be quite straightforward to derive the equations for the gradients of the parameters of the model, $\\frac{\\partial \\mathcal{L}^{(n)}}{\\partial W_{ij}}$ and $\\frac{\\partial \\mathcal{L}^{(n)}}{\\partial b_j}$. The gradients for the biases $\\bb$ are given by:\n",
    "\n",
    "$\n",
    "\\frac{\\partial \\mathcal{L}^{(n)}}{\\partial b_j}\n",
    "= \\frac{\\partial \\mathcal{L}^{(n)}}{\\partial \\log q_j}\n",
    "\\frac{\\partial \\log q_j}{\\partial b_j}\n",
    "= \\delta^q_j\n",
    "\\cdot 1\n",
    "= \\delta^q_j\n",
    "$\n",
    "\n",
    "The equation above gives the derivative of $\\mathcal{L}^{(n)}$ w.r.t. a single element of $\\bb$, so the vector $\\nabla_\\bb \\mathcal{L}^{(n)}$ with all derivatives of $\\mathcal{L}^{(n)}$ w.r.t. the bias parameters $\\bb$ is: \n",
    "\n",
    "$\n",
    "\\nabla_\\bb \\mathcal{L}^{(n)} = \\mathbf{\\delta}^q\n",
    "$\n",
    "\n",
    "where $\\mathbf{\\delta}^q$ denotes the vector of size $10 \\times 1$ with elements $\\mathbf{\\delta}_j^q$.\n",
    "\n",
    "The (not fully developed) equation for computing the derivative of $\\mathcal{L}^{(n)}$ w.r.t. a single element $W_{ij}$ of $\\bW$ is:\n",
    "\n",
    "$\n",
    "\\frac{\\partial \\mathcal{L}^{(n)}}{\\partial W_{ij}} =\n",
    "\\frac{\\partial \\mathcal{L}^{(n)}}{\\partial \\log q_j}\n",
    "\\frac{\\partial \\log q_j}{\\partial W_{ij}}\n",
    "= \\mathbf{\\delta}_j^q\n",
    "\\frac{\\partial \\log q_j}{\\partial W_{ij}}\n",
    "$\n",
    "\n",
    "What is $\\frac{\\partial \\log q_j}{\\partial W_{ij}}$? Complete the equation above.\n",
    "\n",
    "If you want, you can give the resulting equation in vector format ($\\nabla_{\\bw_j} \\mathcal{L}^{(n)} = ...$), like we did for $\\nabla_\\bb \\mathcal{L}^{(n)}$.\n",
    "\n",
    "#####Answer: "
   ]
  },
  {
   "cell_type": "markdown",
   "metadata": {},
   "source": [
    "[insert answer in this cell]"
   ]
  },
  {
   "cell_type": "markdown",
   "metadata": {},
   "source": [
    "### 1.1.2 Implement gradient computations (10 points)\n",
    "\n",
    "Implement the gradient calculations you derived in the previous question. Write a function `logreg_gradient(x, t, w, b)` that returns the gradients $\\nabla_{\\bw_j} \\mathcal{L}^{(n)}$ (for each $j$) and $\\nabla_{\\bb} \\mathcal{L}^{(n)}$, i.e. the first partial derivatives of the log-likelihood w.r.t. the parameters $\\bW$ and $\\bb$, evaluated at a single datapoint (`x`, `t`).\n",
    "The computation will contain roughly the following intermediate variables:\n",
    "\n",
    "$\n",
    "\\log \\bq \\rightarrow Z \\rightarrow \\log \\bp\\,,\\, \\mathbf{\\delta}^q\n",
    "$\n",
    "\n",
    "followed by computation of the gradient vectors $\\nabla_{\\bw_j} \\mathcal{L}^{(n)}$ (contained in a $784 \\times 10$ matrix) and $\\nabla_{\\bb} \\mathcal{L}^{(n)}$ (a $10 \\times 1$ vector).\n"
   ]
  },
  {
   "cell_type": "code",
   "execution_count": 5,
   "metadata": {
    "collapsed": false
   },
   "outputs": [],
   "source": [
    "def logreg_gradient(x, t, W, b):\n",
    "    logq = W.T @ x + b\n",
    "    logq -= max(logq)\n",
    "    Z = np.sum(np.exp(logq))\n",
    "    _deltaq = -np.exp(logq) / Z\n",
    "    \n",
    "    # t has a one hot encoding\n",
    "    deltaq = t * (1 + _deltaq) + (1-t) * _deltaq\n",
    "    \n",
    "    \n",
    "    gradb = deltaq\n",
    "    gradw = np.outer(x, deltaq)\n",
    "    \n",
    "    return gradw, gradb"
   ]
  },
  {
   "cell_type": "markdown",
   "metadata": {},
   "source": [
    "\n",
    "### 1.1.3 Stochastic gradient descent (10 points)\n",
    "\n",
    "Write a function `sgd_iter(x_train, t_train, w, b)` that performs one iteration of stochastic gradient descent (SGD), and returns the new weights. It should go through the trainingset once in randomized order, call `logreg_gradient(x, t, w, b)` for each datapoint to get the gradients, and update the parameters using a small learning rate (e.g. `1E-4`). Note that in this case we're maximizing the likelihood function, so we should actually performing gradient ___ascent___... For more information about SGD, see Bishop 5.2.4 or an online source (i.e. https://en.wikipedia.org/wiki/Stochastic_gradient_descent)"
   ]
  },
  {
   "cell_type": "code",
   "execution_count": 6,
   "metadata": {
    "collapsed": false
   },
   "outputs": [],
   "source": [
    "def sgd_iter(x_train, t_train, W, b):\n",
    "    data = list(zip(x_train, t_train))\n",
    "    random.shuffle(data)\n",
    "    eta = e**-4\n",
    "    \n",
    "    # If we directly run on all the samples we \"converge\"\n",
    "    # on the first epoch\n",
    "    for x, t in data[:200]:\n",
    "        gradw, gradb = logreg_gradient(x, t, W, b)\n",
    "        W = W + gradw * eta\n",
    "        b = b + gradb * eta\n",
    "    return W, b"
   ]
  },
  {
   "cell_type": "markdown",
   "metadata": {},
   "source": [
    "## 1.2. Train\n",
    "\n",
    "### 1.2.1 Train (10 points)\n",
    "Perform a handful of training iterations through the trainingset. Plot (in one graph) the conditional log-probability of the trainingset and validation set after each iteration.\n"
   ]
  },
  {
   "cell_type": "code",
   "execution_count": 7,
   "metadata": {
    "collapsed": false
   },
   "outputs": [],
   "source": [
    "def cross_entropy(predictions, t):\n",
    "    # Subtract the max value from each column\n",
    "    predictions = np.exp(np.apply_along_axis(lambda x: x - np.max(x), 1, predictions))\n",
    "    \n",
    "    Z = np.sum(predictions, axis=1, keepdims=True)\n",
    "    \n",
    "    predictions = predictions / Z\n",
    "    \n",
    "    p_i = np.argmax(predictions, axis=1) # Get index of maximum element from predictions\n",
    "    t_i = np.argmax(t, axis=1) # Get back prediction from one-hot encoding\n",
    "    got_right = np.where((p_i == t_i) == True)[0]\n",
    "    percentage = len(got_right) / len(p_i) # Correct percentage\n",
    "    \n",
    "    best_preds = sorted(zip(got_right, (np.max(predictions[got_right], axis=1))), key=lambda x: x[1], reverse=True)\n",
    "    \n",
    "    got_wrong = np.where((p_i == t_i) == False)[0]\n",
    "    \n",
    "    loss = np.sum(-np.log(predictions[t==1])) / len(predictions[t==1])\n",
    "    \n",
    "    return loss, percentage, best_preds, got_wrong"
   ]
  },
  {
   "cell_type": "code",
   "execution_count": 7,
   "metadata": {
    "collapsed": false,
    "scrolled": true
   },
   "outputs": [
    {
     "name": "stdout",
     "output_type": "stream",
     "text": [
      "Epoch 0\n",
      "\n",
      "Train:\n",
      "Loss: 1.11514095125\n",
      "Percentage: 0.6496\n",
      "\n",
      "Valid:\n",
      "Loss: 1.06474782667\n",
      "Percentage: 0.6746\n",
      "--------------------------------\n",
      "Epoch 1\n",
      "\n",
      "Train:\n",
      "Loss: 0.962875074183\n",
      "Percentage: 0.6658\n",
      "\n",
      "Valid:\n",
      "Loss: 0.920420496567\n",
      "Percentage: 0.6819\n",
      "--------------------------------\n",
      "Epoch 2\n",
      "\n",
      "Train:\n",
      "Loss: 0.736481719022\n",
      "Percentage: 0.75902\n",
      "\n",
      "Valid:\n",
      "Loss: 0.678332910883\n",
      "Percentage: 0.7793\n",
      "--------------------------------\n",
      "Epoch 3\n",
      "\n",
      "Train:\n",
      "Loss: 0.625826246644\n",
      "Percentage: 0.81638\n",
      "\n",
      "Valid:\n",
      "Loss: 0.5822627269\n",
      "Percentage: 0.8305\n",
      "--------------------------------\n",
      "Epoch 4\n",
      "\n",
      "Train:\n",
      "Loss: 0.58311876731\n",
      "Percentage: 0.8267\n",
      "\n",
      "Valid:\n",
      "Loss: 0.532471921827\n",
      "Percentage: 0.842\n",
      "--------------------------------\n",
      "Epoch 5\n",
      "\n",
      "Train:\n",
      "Loss: 0.601144970422\n",
      "Percentage: 0.81158\n",
      "\n",
      "Valid:\n",
      "Loss: 0.555444629342\n",
      "Percentage: 0.8325\n",
      "--------------------------------\n",
      "Epoch 6\n",
      "\n",
      "Train:\n",
      "Loss: 0.520365619878\n",
      "Percentage: 0.8521\n",
      "\n",
      "Valid:\n",
      "Loss: 0.476914894133\n",
      "Percentage: 0.8678\n",
      "--------------------------------\n",
      "Epoch 7\n",
      "\n",
      "Train:\n",
      "Loss: 0.525573588317\n",
      "Percentage: 0.83866\n",
      "\n",
      "Valid:\n",
      "Loss: 0.480034578665\n",
      "Percentage: 0.8554\n",
      "--------------------------------\n",
      "Epoch 8\n",
      "\n",
      "Train:\n",
      "Loss: 0.501809096628\n",
      "Percentage: 0.84758\n",
      "\n",
      "Valid:\n",
      "Loss: 0.46068856394\n",
      "Percentage: 0.8597\n",
      "--------------------------------\n",
      "Epoch 9\n",
      "\n",
      "Train:\n",
      "Loss: 0.491763936193\n",
      "Percentage: 0.85362\n",
      "\n",
      "Valid:\n",
      "Loss: 0.449327497858\n",
      "Percentage: 0.8692\n",
      "--------------------------------\n"
     ]
    }
   ],
   "source": [
    "N = 10\n",
    "W = np.random.normal(0, 0.1, [784,10])\n",
    "b = np.random.normal(0, 0.1, 10)\n",
    "for i in range(N):\n",
    "    W, b = sgd_iter(x_train, t_train, W, b)\n",
    "    loss_valid, percentage_valid, best_valid, _ = cross_entropy(x_valid @ W + b, t_valid)\n",
    "    loss_train, percentage_train, best_train, _ = cross_entropy(x_train @ W + b, t_train)\n",
    "    print(\"Epoch %d\" % i)\n",
    "    print(\"\\nTrain:\\nLoss: \" + str(loss_train) + \"\\nPercentage: \" + str(percentage_train))\n",
    "    print(\"\\nValid:\\nLoss: \" + str(loss_valid) + \"\\nPercentage: \" + str(percentage_valid))\n",
    "    print(\"--------------------------------\")\n",
    "    \n",
    "# Needs plots"
   ]
  },
  {
   "cell_type": "markdown",
   "metadata": {},
   "source": [
    "### 1.2.2 Visualize weights (10 points)\n",
    "Visualize the resulting parameters $\\bW$ after a few iterations through the training set, by treating each column of $\\bW$ as an image. If you want, you can use or edit the `plot_digits(...)` above."
   ]
  },
  {
   "cell_type": "code",
   "execution_count": 8,
   "metadata": {
    "collapsed": false
   },
   "outputs": [
    {
     "data": {
      "image/png": "[encoded data removed]",
      "text/plain": [
       "<matplotlib.figure.Figure at 0x120e17160>"
      ]
     },
     "metadata": {},
     "output_type": "display_data"
    }
   ],
   "source": [
    "plot_digits(W.T[0:10], numcols=5, cmap=None)"
   ]
  },
  {
   "cell_type": "markdown",
   "metadata": {},
   "source": [
    "### 1.2.3. Visualize the 8 hardest and 8 easiest digits (10 points)\n",
    "Visualize the 8 digits in the validation set with the highest probability of the true class label under the model.\n",
    "Also plot the 8 digits that were assigned the lowest probability.\n",
    "Ask yourself if these results make sense."
   ]
  },
  {
   "cell_type": "code",
   "execution_count": 9,
   "metadata": {
    "collapsed": false
   },
   "outputs": [
    {
     "data": {
      "image/png": "[encoded data removed]",
      "text/plain": [
       "<matplotlib.figure.Figure at 0x11ecada58>"
      ]
     },
     "metadata": {},
     "output_type": "display_data"
    }
   ],
   "source": [
    "idx = [x[0] for x in best_train[:32]]\n",
    "plot_digits(x_train[idx], numcols=4)"
   ]
  },
  {
   "cell_type": "code",
   "execution_count": 10,
   "metadata": {
    "collapsed": false
   },
   "outputs": [
    {
     "data": {
      "image/png": "[encoded data removed]",
      "text/plain": [
       "<matplotlib.figure.Figure at 0x1211e0470>"
      ]
     },
     "metadata": {},
     "output_type": "display_data"
    }
   ],
   "source": [
    "idx = [x[0] for x in best_train[-32:]]\n",
    "plot_digits(x_train[idx], numcols=4)"
   ]
  },
  {
   "cell_type": "markdown",
   "metadata": {},
   "source": [
    "# Part 2. Multilayer perceptron\n",
    "\n",
    "\n",
    "You discover that the predictions by the logistic regression classifier are not good enough for your application: the model is too simple. You want to increase the accuracy of your predictions by using a better model. For this purpose, you're going to use a multilayer perceptron (MLP), a simple kind of neural network. The perceptron will have a single hidden layer $\\bh$ with $L$ elements. The parameters of the model are $\\bV$ (connections between input $\\bx$ and hidden layer $\\bh$), $\\ba$ (the biases/intercepts of $\\bh$), $\\bW$ (connections between $\\bh$ and $\\log q$) and $\\bb$ (the biases/intercepts of $\\log q$.\n",
    "\n",
    "The conditional probability of the class label $j$ is given by:\n",
    "\n",
    "$\\log p(t = j \\;|\\; \\bx, \\bb, \\bW) = \\log q_j - \\log Z$\n",
    "\n",
    "where $q_j$ are again the unnormalized probabilities per class, and $Z = \\sum_j q_j$ is again the probability normalizing factor. Each $q_j$ is computed using:\n",
    "\n",
    "$\\log q_j = \\bw_j^T \\bh + b_j$\n",
    "\n",
    "where $\\bh$ is a $L \\times 1$ vector with the hidden layer activations (of a hidden layer with size $L$), and $\\bw_j$ is the $j$-th column of $\\bW$ (a $L \\times 10$ matrix). Each element of the hidden layer is computed from the input vector $\\bx$ using:\n",
    "\n",
    "$h_j = \\sigma(\\bv_j^T \\bx + a_j)$\n",
    "\n",
    "where $\\bv_j$ is the $j$-th column of $\\bV$ (a $784 \\times L$ matrix), $a_j$ is the $j$-th element of $\\ba$, and $\\sigma(.)$ is the so-called sigmoid activation function, defined by:\n",
    "\n",
    "$\\sigma(x) = \\frac{1}{1 + \\exp(-x)}$\n",
    "\n",
    "Note that this model is almost equal to the multiclass logistic regression model, but with an extra 'hidden layer' $\\bh$. The activations of this hidden layer can be viewed as features computed from the input, where the feature transformation ($\\bV$ and $\\ba$) is learned.\n",
    "\n",
    "## 2.1 Derive gradient equations (20 points)\n",
    "\n",
    "State (shortly) why $\\nabla_{\\bb} \\mathcal{L}^{(n)}$ is equal to the earlier (multiclass logistic regression) case, and why $\\nabla_{\\bw_j} \\mathcal{L}^{(n)}$ is almost equal to the earlier case.\n",
    "\n",
    "Like in multiclass logistic regression, you should use intermediate variables $\\mathbf{\\delta}_j^q$. In addition, you should use intermediate variables $\\mathbf{\\delta}_j^h = \\frac{\\partial \\mathcal{L}^{(n)}}{\\partial h_j}$.\n",
    "\n",
    "Given an input image, roughly the following intermediate variables should be computed:\n",
    "\n",
    "$\n",
    "\\log \\bq \\rightarrow Z \\rightarrow \\log \\bp \\rightarrow \\mathbf{\\delta}^q \\rightarrow \\mathbf{\\delta}^h\n",
    "$\n",
    "\n",
    "where $\\mathbf{\\delta}_j^h = \\frac{\\partial \\mathcal{L}^{(n)}}{\\partial \\bh_j}$.\n",
    "\n",
    "Give the equations for computing $\\mathbf{\\delta}^h$, and for computing the derivatives of $\\mathcal{L}^{(n)}$ w.r.t. $\\bW$, $\\bb$, $\\bV$ and $\\ba$. \n",
    "\n",
    "You can use the convenient fact that $\\frac{\\partial}{\\partial x} \\sigma(x) = \\sigma(x) (1 - \\sigma(x))$.\n",
    "\n",
    "#####Answer: "
   ]
  },
  {
   "cell_type": "markdown",
   "metadata": {},
   "source": [
    "[insert answer in this Markdown cell]"
   ]
  },
  {
   "cell_type": "markdown",
   "metadata": {},
   "source": [
    "## 2.2 MAP optimization (10 points)\n",
    "\n",
    "You derived equations for finding the _maximum likelihood_ solution of the parameters. Explain, in a few sentences, how you could extend this approach so that it optimizes towards a _maximum a posteriori_ (MAP) solution of the parameters, with a Gaussian prior on the parameters. \n",
    "\n",
    "#####Answer: "
   ]
  },
  {
   "cell_type": "markdown",
   "metadata": {},
   "source": [
    "[insert answer in this Markdown cell]"
   ]
  },
  {
   "cell_type": "markdown",
   "metadata": {},
   "source": [
    "## 2.3. Implement and train a MLP (15 points)\n",
    "\n",
    "Implement a MLP model with a single hidden layer, and code to train the model."
   ]
  },
  {
   "cell_type": "markdown",
   "metadata": {},
   "source": [
    "We start off by creating the sigmoid function and vectorizing it."
   ]
  },
  {
   "cell_type": "code",
   "execution_count": 8,
   "metadata": {
    "collapsed": false
   },
   "outputs": [],
   "source": [
    "from scipy.special import expit\n",
    "def sigmoid(x):\n",
    "    return expit(x)\n",
    "\n",
    "sigmoid = np.vectorize(sigmoid)"
   ]
  },
  {
   "cell_type": "markdown",
   "metadata": {},
   "source": [
    "We recreate the function above, but using 2 layers.\n",
    "\n",
    "Also, we create a vectorized version that is faster and\n",
    "facilitates training the network in a reasonable amount of time."
   ]
  },
  {
   "cell_type": "code",
   "execution_count": 74,
   "metadata": {
    "collapsed": false
   },
   "outputs": [],
   "source": [
    "def mlogreg_gradient_vec(X, T, W, b, V, a):\n",
    "    #print(X.shape) # datasize x input\n",
    "    #print(T.shape) # datasize x classes\n",
    "    h = sigmoid(X @ V + a)\n",
    "    #print(h.shape) # datasize x hidden\n",
    "\n",
    "    logq = h @ W + b\n",
    "    #print(logq.shape) # datasize x classes\n",
    "    q = np.exp(np.apply_along_axis(lambda x: x - np.max(x), 1, logq))\n",
    "    #print(q.shape) # datasize x classes\n",
    "    Z = np.sum(q, axis=1, keepdims=True)\n",
    "    #print(Z.shape) # datasize x 1\n",
    "    _deltaq = -q / Z\n",
    "    #print(_deltaq.shape) # datasize x classes\n",
    "    deltaq = T * (1 + _deltaq) + (1-T) * _deltaq\n",
    "\n",
    "    gradb = np.sum(deltaq, axis=0)\n",
    "    gradw = h.T @ deltaq\n",
    "    \n",
    "    dh = h * (1 - h)\n",
    "    deltah = (deltaq @ W.T) * dh\n",
    "    grada = np.sum(deltah, axis=0)\n",
    "    gradv = X.T @ deltah\n",
    "        \n",
    "    # Regularization\n",
    "    gradw -= 5*1e-3 * (W)\n",
    "    gradv -= 5*1e-3 * (V)\n",
    "        \n",
    "    return gradw, gradb, gradv, grada"
   ]
  },
  {
   "cell_type": "markdown",
   "metadata": {},
   "source": [
    "For the parameter updating, we use minibatch stochastic gradient descent.\n",
    "\n",
    "Also we're using Adam instead of the regular updates."
   ]
  },
  {
   "cell_type": "code",
   "execution_count": 50,
   "metadata": {
    "collapsed": true
   },
   "outputs": [],
   "source": [
    "# Adam parameters\n",
    "beta1 = 0.9\n",
    "beta2 = 0.999\n",
    "eps = 1e-8\n",
    "\n",
    "def msgd_iter(x_train, t_train, W, b, V, a, eta):\n",
    "    mini_batch_size = 100\n",
    "    random_indices = np.random.permutation(len(x_train))\n",
    "    mini_batch_indices = [random_indices[k:k+mini_batch_size]\n",
    "                          for k in range(0, len(x_train), mini_batch_size)]\n",
    "    \n",
    "    # Adam upgrade    \n",
    "    def update_grad(x, dx, m, v):\n",
    "        m = beta1*m + (1-beta1)*dx\n",
    "        v = beta2*v + (1-beta2)*(dx**2)\n",
    "        x += eta * m / (np.sqrt(v) + eps) / mini_batch_size\n",
    "        return x, m, v\n",
    "    \n",
    "    old_gradw_m, old_gradb_m, old_gradv_m, old_grada_m = 0, 0, 0, 0\n",
    "    old_gradw_v, old_gradb_v, old_gradv_v, old_grada_v = 0, 0, 0, 0\n",
    "    for i in range(len(mini_batch_indices)):\n",
    "        gradw, gradb, gradv, grada = mlogreg_gradient_vec(x_train[mini_batch_indices[i]], \n",
    "                                                          t_train[mini_batch_indices[i]], \n",
    "                                                          W, b, V, a)\n",
    "        \n",
    "        W, old_gradw_m, old_gradw_v = update_grad(W, gradw, old_gradw_m, old_gradw_v) #W + gradw * eta / mini_batch_size\n",
    "        b, old_gradb_m, old_gradb_v = update_grad(b, gradb, old_gradb_m, old_gradb_v) #b + gradb * eta / mini_batch_size\n",
    "        V, old_gradv_m, old_gradv_v = update_grad(V, gradv, old_gradv_m, old_gradv_v) #V + gradv * eta / mini_batch_size\n",
    "        a, old_grada_m, old_grada_v = update_grad(a, grada, old_grada_m, old_grada_v) #a + grada * eta / mini_batch_size\n",
    "    return W, b, V, a"
   ]
  },
  {
   "cell_type": "markdown",
   "metadata": {},
   "source": [
    "Here we deskew the images from both the training set and the test set."
   ]
  },
  {
   "cell_type": "code",
   "execution_count": 71,
   "metadata": {
    "collapsed": false
   },
   "outputs": [],
   "source": [
    "import cv2\n",
    "SZ=20\n",
    "def deskew(img):\n",
    "    m = cv2.moments(img)\n",
    "    if abs(m['mu02']) < 1e-2:\n",
    "        return img.copy()\n",
    "    skew = m['mu11']/m['mu02']\n",
    "    rot_mat = np.float32([[1, skew, -0.5*SZ*skew], [0, 1, 0]])\n",
    "    img = cv2.warpAffine(img, rot_mat, (img.shape[0], img.shape[1]), flags=cv2.WARP_INVERSE_MAP | cv2.INTER_LINEAR)\n",
    "    img = cv2.GaussianBlur(img,(3,3),0)\n",
    "    return img\n",
    "\n",
    "x_train_valid_deskewed = np.array([np.reshape(np.array(deskew(np.reshape(x, [28,28]))), -1) for x in x_train_valid])\n",
    "x_test= np.array([np.reshape(np.array(deskew(np.reshape(x, [28,28]))), -1) for x in x_test])"
   ]
  },
  {
   "cell_type": "markdown",
   "metadata": {},
   "source": [
    "We train the network for 20 ephocs, using 500 hidden units.\n",
    "\n",
    "We apply a Gaussian prior on the weight matrices, divided by the square root of the number of inputs.\n",
    "The biases are initialized to zero.\n",
    "\n",
    "We also slightly decrease the learning rate every 5 epochs."
   ]
  },
  {
   "cell_type": "code",
   "execution_count": null,
   "metadata": {
    "collapsed": false
   },
   "outputs": [],
   "source": [
    "N_EPOCHS = 20\n",
    "N_HIDDEN = 500\n",
    "eta = 0.075\n",
    "inputs = x_train_valid_deskewed\n",
    "outputs = t_train_valid\n",
    "mV = np.random.normal(0, 1, [inputs.shape[1], N_HIDDEN]) / np.sqrt(inputs.shape[1])\n",
    "ma = np.zeros(N_HIDDEN, dtype='float64')\n",
    "mW = np.random.normal(0, 1, [N_HIDDEN, outputs.shape[1]]) / np.sqrt(N_HIDDEN)\n",
    "mb = np.zeros(outputs.shape[1], dtype='float64')\n",
    "\n",
    "params = {}\n",
    "for i in range(N_EPOCHS):\n",
    "    mW, mb, mV, ma = msgd_iter(inputs, outputs, mW, mb, mV, ma, eta)\n",
    "    out_test = sigmoid(x_test @ mV + ma) @ mW + mb\n",
    "    loss_test, percentage_test, best_test, got_wrong_test = cross_entropy(out_test, t_test)\n",
    "    print(\"Epoch %d\" % i)\n",
    "    print(\"\\nValid:\\nLoss: \" + str(loss_test) + \"\\nPercentage: \" + str(percentage_test))\n",
    "    print(\"--------------------------------\")\n",
    "    \n",
    "    if i % 5 == 0:\n",
    "        eta = eta - 0.002\n",
    "    params[loss_test] = [mW, mb, mV, ma]\n",
    "        \n",
    "out_test = sigmoid(x_test @ mV + ma) @ mW + mb\n",
    "loss_test, percentage_test, best_test = cross_entropy(out_test, t_test)"
   ]
  },
  {
   "cell_type": "markdown",
   "metadata": {},
   "source": [
    "### 2.3.1. Less than 250 misclassifications on the test set (10 bonus points)\n",
    "\n",
    "You receive an additional 10 bonus points if you manage to train a model with very high accuracy: at most 2.5% misclasified digits on the test set. Note that the test set contains 10000 digits, so you model should misclassify at most 250 digits. This should be achievable with a MLP model with one hidden layer. See results of various models at : `http://yann.lecun.com/exdb/mnist/index.html`. To reach such a low accuracy, you probably need to have a very high $L$ (many hidden units), probably $L > 200$, and apply a strong Gaussian prior on the weights. In this case you are allowed to use the validation set for training.\n",
    "You are allowed to add additional layers, and use convolutional networks, although that is probably not required to reach 2.5% misclassifications."
   ]
  },
  {
   "cell_type": "markdown",
   "metadata": {},
   "source": [
    "We have already applied the modifications required to get under 2.5% misclassified digits above.\n",
    "\n",
    "These include:\n",
    "  - Deskewing\n",
    "  - Regularization\n",
    "  - Proper initialization of the weights\n",
    "  - Adam upgrade\n",
    "  - Minibatch SGD\n",
    "  - Vectorization\n",
    "  \n",
    "We have saved a set of weights that achieve 98.5% accuracy below.\n",
    "\n",
    "We did try using `np.random.seed` to be able to provide consistent results,\n",
    "but it doesn't seem to work at all."
   ]
  },
  {
   "cell_type": "code",
   "execution_count": null,
   "metadata": {
    "collapsed": false
   },
   "outputs": [],
   "source": [
    "mW=pickle.load(open(\"Wf.p\", \"rb\"))\n",
    "mb=pickle.load(open(\"bf.p\", \"rb\"))\n",
    "mV=pickle.load(open(\"Vf.p\", \"rb\"))\n",
    "ma=pickle.load(open(\"af.p\", \"rb\"))"
   ]
  },
  {
   "cell_type": "code",
   "execution_count": null,
   "metadata": {
    "collapsed": true
   },
   "outputs": [],
   "source": [
    "out_test = sigmoid(x_test @ mV + ma) @ mW + mb\n",
    "loss_test, percentage_test, best_test, got_wrong_test = cross_entropy(out_test, t_test)\n",
    "print(percentage_test)"
   ]
  },
  {
   "cell_type": "markdown",
   "metadata": {},
   "source": [
    "![Screenshot of achieving 98.5% accuracy](files/results.png)"
   ]
  },
  {
   "cell_type": "code",
   "execution_count": null,
   "metadata": {
    "collapsed": true
   },
   "outputs": [],
   "source": []
  }
 ],
 "metadata": {
  "kernelspec": {
   "display_name": "Python 3",
   "language": "python",
   "name": "python3"
  },
  "language_info": {
   "codemirror_mode": {
    "name": "ipython",
    "version": 3
   },
   "file_extension": ".py",
   "mimetype": "text/x-python",
   "name": "python",
   "nbconvert_exporter": "python",
   "pygments_lexer": "ipython3",
   "version": "3.5.2"
  }
 },
 "nbformat": 4,
 "nbformat_minor": 0
}
